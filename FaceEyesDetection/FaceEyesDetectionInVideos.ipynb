{
 "cells": [
  {
   "cell_type": "markdown",
   "metadata": {},
   "source": [
    "# Face & Eyes Detection in inbuilt webcam"
   ]
  },
  {
   "cell_type": "markdown",
   "metadata": {},
   "source": [
    "**Import the required packages**"
   ]
  },
  {
   "cell_type": "code",
   "execution_count": 1,
   "metadata": {},
   "outputs": [],
   "source": [
    "import cv2\n",
    "import numpy as np\n",
    "import matplotlib.pyplot as plt"
   ]
  },
  {
   "cell_type": "markdown",
   "metadata": {},
   "source": [
    "**Load Face and Eye XML file using cascade classifier **"
   ]
  },
  {
   "cell_type": "code",
   "execution_count": 2,
   "metadata": {},
   "outputs": [],
   "source": [
    "# The cascade classifiers are the trained.xml files for detecting the face and eyes.\n",
    "faceCascade=cv2.CascadeClassifier(\"HaarCascadeClassifier/haarcascade_frontalface_default.xml\")\n",
    "eyeCascade=cv2.CascadeClassifier(\"HaarCascadeClassifier/haarcascade_eye.xml\")"
   ]
  },
  {
   "cell_type": "markdown",
   "metadata": {},
   "source": [
    "**Define a function that will do the detections**"
   ]
  },
  {
   "cell_type": "code",
   "execution_count": 3,
   "metadata": {},
   "outputs": [],
   "source": [
    "def faceEyesdetectionFromWebcam(gray, frame):\n",
    "    \n",
    "    # Our classifier returns the ROI of the detected face as a tuple\n",
    "    # It stores the top left coordinate and the bottom right coordiantes\n",
    "    faceDetect = faceCascade.detectMultiScale(gray, 1.3, 5)\n",
    "    \n",
    "    # We iterate through the faceDetect array and draw a rectangle\n",
    "    for (x, y, w, h) in faceDetect:\n",
    "        cv2.rectangle(frame, (x, y), (x+w, y+h), (255, 0, 0), 2)\n",
    "        roi = frame[y:y+h, x:x+w]\n",
    "        eyesDetect = eyeCascade.detectMultiScale(roi, 1.1, 3)\n",
    "        \n",
    "        # We iterate through the eyesDetect array and draw a rectangle\n",
    "        for (ex, ey, ew, eh) in eyesDetect:\n",
    "            cv2.rectangle(roi, (ex, ey), (ex+ew, ey+eh), (0, 255, 0), 2)\n",
    "    return frame"
   ]
  },
  {
   "cell_type": "markdown",
   "metadata": {},
   "source": [
    "**Live video capturing for face and eyes detection with the inbuilt webcam**"
   ]
  },
  {
   "cell_type": "code",
   "execution_count": 4,
   "metadata": {},
   "outputs": [],
   "source": [
    "videoCapture = cv2.VideoCapture(0)\n",
    "\n",
    "while True:\n",
    "    _, frame = videoCapture.read()\n",
    "    \n",
    "    #converting the frames into grayscale\n",
    "    gray = cv2.cvtColor(frame, cv2.COLOR_BGR2GRAY)\n",
    "    \n",
    "    canvas = faceEyesdetectionFromWebcam(gray, frame)\n",
    "    cv2.imshow('Video', canvas)\n",
    "    \n",
    "    # Press \"q\" to stop the webcam from capturing\n",
    "    if cv2.waitKey(1) & 0xFF == ord('q'):\n",
    "        break\n",
    "        \n",
    "videoCapture.release()\n",
    "cv2.destroyAllWindows()"
   ]
  }
 ],
 "metadata": {
  "kernelspec": {
   "display_name": "Python 3",
   "language": "python",
   "name": "python3"
  },
  "language_info": {
   "codemirror_mode": {
    "name": "ipython",
    "version": 3
   },
   "file_extension": ".py",
   "mimetype": "text/x-python",
   "name": "python",
   "nbconvert_exporter": "python",
   "pygments_lexer": "ipython3",
   "version": "3.6.0"
  }
 },
 "nbformat": 4,
 "nbformat_minor": 2
}
